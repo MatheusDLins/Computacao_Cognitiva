{
  "nbformat": 4,
  "nbformat_minor": 0,
  "metadata": {
    "colab": {
      "name": "Untitled2.ipynb",
      "provenance": [],
      "collapsed_sections": [],
      "authorship_tag": "ABX9TyNWgTUUJ1FxPI5N/1rhLPnK",
      "include_colab_link": true
    },
    "kernelspec": {
      "name": "python3",
      "display_name": "Python 3"
    },
    "language_info": {
      "name": "python"
    }
  },
  "cells": [
    {
      "cell_type": "markdown",
      "metadata": {
        "id": "view-in-github",
        "colab_type": "text"
      },
      "source": [
        "<a href=\"https://colab.research.google.com/github/MatheusDLins/Computacao_Cognitiva/blob/main/Untitled2.ipynb\" target=\"_parent\"><img src=\"https://colab.research.google.com/assets/colab-badge.svg\" alt=\"Open In Colab\"/></a>"
      ]
    },
    {
      "cell_type": "code",
      "source": [
        "import json\n",
        "import heapq\n",
        "import numpy as np\n",
        "import re\n",
        "import nltk\n",
        "nltk.download('punkt')"
      ],
      "metadata": {
        "colab": {
          "base_uri": "https://localhost:8080/"
        },
        "id": "LopMS7asavO5",
        "outputId": "0f2b5d68-18c4-4bc0-c881-4bb3a356c41a"
      },
      "execution_count": 202,
      "outputs": [
        {
          "output_type": "stream",
          "name": "stdout",
          "text": [
            "[nltk_data] Downloading package punkt to /root/nltk_data...\n",
            "[nltk_data]   Package punkt is already up-to-date!\n"
          ]
        },
        {
          "output_type": "execute_result",
          "data": {
            "text/plain": [
              "True"
            ]
          },
          "metadata": {},
          "execution_count": 202
        }
      ]
    },
    {
      "cell_type": "code",
      "source": [
        "with open('/content/tokens.json') as file:\n",
        "  palavras = json.load(file)"
      ],
      "metadata": {
        "id": "9kQk9gp-cTUT"
      },
      "execution_count": 171,
      "outputs": []
    },
    {
      "cell_type": "code",
      "source": [
        "palavras"
      ],
      "metadata": {
        "id": "cCDMq105eaCa"
      },
      "execution_count": null,
      "outputs": []
    },
    {
      "cell_type": "code",
      "source": [
        "for line in palavras:\n",
        "  print(line)"
      ],
      "metadata": {
        "colab": {
          "base_uri": "https://localhost:8080/"
        },
        "id": "hbPfPwtCj95u",
        "outputId": "3de12987-9ca6-4303-ae3c-ce51818e24ad"
      },
      "execution_count": 173,
      "outputs": [
        {
          "output_type": "stream",
          "name": "stdout",
          "text": [
            "['câncer', 'pulmão', 'doença', 'maligna', 'comum', 'todo', 'mundo', 'todo', 'novo', 'caso', 'câncer', 'câncer', 'pulmão', 'acordo', 'global', 'burden', 'of', 'disease', 'study', 'câncer', 'pulmão', 'principal', 'causa', 'mortalidade', 'câncer', 'milhão', 'morte', 'ano', 'todo', 'tipo', 'câncer', 'apresentar', 'grande', 'taxa', 'mortalidade', 'padronizada', 'idade', 'brasil', 'instituto', 'nacional', 'câncer', 'inca', 'estimou', 'número', 'novo', 'caso', 'câncer', 'qual', 'caso', 'neoplasia', 'maligna', 'primária', 'pulmão', 'câncer', 'pulmão', 'segundo', 'tipo', 'câncer', 'grande', 'incidência', 'homem', 'quarto', 'tipo', 'câncer', 'grande', 'incidência', 'mulher', 'país', 'figura', 'maioria', 'país', 'câncer', 'pulmão', 'principal', 'causa', 'mortalidade', 'câncer', 'brasil', 'taxa', 'sobrevido', 'ano', 'padronizada', 'idade', 'país', 'semelhante', 'taxa', 'global', 'variar', 'taxa', 'mortalidade', 'câncer', 'pulmão', 'padronizada', 'idade', 'morte', 'habitante', 'morte', 'habitante', 'homem', 'mulher', 'respectivamente', 'brasil', 'mortalidade', 'aumentar', 'morte', 'habitante', 'morte', 'habitante', 'homem', 'morte', 'habitante', 'morte', 'habitante', 'mulher', 'taxa', 'mortalidade', 'tanto', 'bruto', 'ajustada', 'idade', 'homem', 'mulher', 'diferiram', 'magnitude', 'todo', 'período', 'aumento', 'relativo', 'significativo', 'mulher', 'homem', 'provavelmente', 'virtude', 'diferença', 'prevalência', 'tabagismo', 'figura', 'além', 'disso', 'taxa', 'mortalidade', 'idade', 'aumentar', 'homem', 'idade', 'igual', 'alto', 'ano', 'mulher', 'todo', 'idade', 'sistema', 'saúde', 'brasileiro', 'dividir', 'cobertura', 'privado', 'cobertura', 'público', 'discutir', 'adiante', 'presente', 'análise', 'evidente', 'discrepância', 'significativo', 'sistema', 'público', 'privado', 'tocante', 'disponibilidade', 'recurso', 'saúde', 'desfecho', 'paciente', 'tendência', 'mortalidade', 'câncer', 'pulmão', 'brasil', 'refletir', 'modelo', 'epidemiológico', 'mortalidade', 'relacionado', 'tabaco', 'uso', 'tabaco', 'aumentar', 'durante', 'década', 'atingir', 'ponto', 'máximo', 'década', 'forte', 'político', 'saúde', 'público', 'brasil', 'resultar', 'redução', 'consumo', 'tabaco', 'poder', 'servir', 'exemplo', 'outro', 'país', 'baixa', 'média', 'renda', 'estudo', 'conduzir', 'brasil', 'indicar', 'tanto', 'prevalência', 'tabagismo', 'morte', 'relacionar', 'diminuir', 'aproximadamente', 'dado', 'proveniente', 'estudo', 'nacional', 'vigilância', 'telefone', 'sobre', 'fator', 'risco', 'doença', 'crônica', 'fator', 'proteção', 'contra', 'doença', 'mostraram', 'homem', 'mulher', 'ano', 'idade', 'fumante', 'porcentagem', 'respectivamente', 'principal', 'componente', 'político', 'brasileiro', 'antitabaco', 'proibição', 'tabagismo', 'local', 'público', 'imposto', 'alto', 'sobre', 'produto', 'tabaco', 'alerta', 'saúde', 'rótulo', 'embalagem', 'cigarro', 'apesar', 'dessa', 'diminuição', 'consumo', 'tabaco', 'pesquisa', 'nacional', 'criança', 'brasil', 'ainda', 'mostrar', 'prevalência', 'significativo', 'fumante', 'população', 'jovem', 'diversos', 'cidade', 'além', 'disso', 'doença', 'relacionar', 'tabagismo', 'continuar', 'grande', 'fardo', 'saúde', 'econômico', 'estimar', 'fração', 'atribuível', 'população', 'carga', 'câncer', 'pulmão', 'relacionado', 'tabagismo', 'brasil', 'homem', 'mulher', 'dado', 'relevante', 'reforçar', 'papel', 'controle', 'local', 'tabagismo', 'dado', 'respeito', 'prevalência', 'câncer', 'pulmão', 'relacionar', 'outro', 'fator', 'risco', 'tal', 'exposição', 'amianto', 'exposição', 'fumaça', 'proveniente', 'combustão', 'lenha', 'domicílio', 'exposição', 'radônio']\n",
            "['dado', 'exato', 'respeito', 'número', 'procedimento', 'cirúrgico', 'realizar', 'tratar', 'paciente', 'câncer', 'pulmão', 'acordo', 'departamento', 'informática', 'su', 'banco', 'dado', 'sistema', 'público', 'saúde', 'cobre', 'aproximadamente', 'população', 'brasileiro', 'mediana', 'lobectomia', 'segmentectomia', 'pulmonar', 'realizar', 'anualmente', 'entanto', 'possibilidade', 'número', 'exato', 'possível', 'lobectomia', 'segmentectomia', 'ser', 'realizar', 'tratar', 'doença', 'câncer', 'pulmão', 'banco', 'dado', 'restringir', 'sistema', 'público', 'saúde', 'qualidade', 'dado', 'questionável', 'apenas', 'pequeno', 'proporção', 'paciente', 'submetida', 'cirurgia', 'intenção', 'curativo', 'dado', 'sugerem', 'aproximadamente', 'paciente', 'submetido', 'tratamento', 'cirúrgico', 'acesso', 'cirurgia', 'curativo', 'provavelmente', 'influenciar', 'diferença', 'socioeconômico', 'performance', 'status', 'comorbidade', 'idade', 'avançar', 'distribuição', 'geográfico', 'segundo', 'secretaria', 'saúde', 'estado', 'probabilidade', 'realização', 'cirurgia', 'pequeno', 'paciente', 'pequeno', 'escolaridade', 'atualmente', 'existir', 'cirurgião', 'torácico', 'brasil', 'concentrado', 'região', 'sul', 'sudeste', 'país', 'pesquisa', 'promovida', 'sociedade', 'brasileiro', 'cirurgia', 'torácica', 'participante', 'dizer', 'trabalhar', 'cidade', 'milhão', 'habitante', 'portanto', 'número', 'absoluto', 'cirurgião', 'torácico', 'adequado', 'distribuição', 'motivo', 'preocupação', 'cidade', 'tamanho', 'médio', 'região', 'densamente', 'povoada', 'centro', 'norte', 'nordeste', 'brasil', 'mal', 'servida', 'tocante', 'cirurgia', 'torácica', 'cirurgia', 'torácica', 'videoassistida', 'crescendo', 'rapidamente', 'país', 'taxa', 'mortalidade', 'dia', 'dois', 'grande', 'série', 'caso', 'cirúrgico', 'relatado', 'incluíram', 'paciente', 'submetido', 'lobectomia', 'virtude', 'câncer', 'pulmão', 'grande', 'série', 'caso', 'internacional', 'publicar', 'ano', 'revelar', 'taxa', 'mortalidade', 'pouco', 'pequeno', 'aproximadamente', 'número', 'sugerem', 'possível', 'melhorar', 'cirurgia', 'câncer', 'pulmão', 'brasil', 'esperar', 'disseminação', 'disponibilidade', 'novo', 'técnica', 'tal', 'cirurgia', 'videoassistida', 'cirurgia', 'robótico', 'acelerem', 'processo']\n",
            "['embora', 'relativamente', 'pouco', 'dado', 'brasil', 'respeito', 'câncer', 'pulmão', 'diagnosticado', 'classificado', 'publicar', 'algum', 'dado', 'último', 'ano', 'assim', 'ocorrer', 'país', 'desenvolver', 'câncer', 'pulmonar', 'célula', 'pequeno', 'cpcnp', 'brasil', 'geralmente', 'diagnosticado', 'estágio', 'avançar', 'apresentar', 'baixo', 'taxa', 'sobrevido', 'geral', 'aproximadamente', 'paciente', 'apresentar', 'doença', 'localmente', 'avançar', 'metastática', 'estágio', 'respectivamente', 'acordo', 'grande', 'banco', 'dado', 'caso', 'câncer', 'estado', 'apenas', 'paciente', 'câncer', 'pulmão', 'registrar', 'sistema', 'apresentar', 'doença', 'estágio', 'porcentagem', 'contrastam', 'referente', 'período', 'semelhante', 'eua', 'respectivamente', 'ensaio', 'brasileiro', 'rastreamento', 'câncer', 'pulmão', 'realizar', 'fim', 'determinar', 'eficácia', 'rastreamento', 'país', 'janeiro', 'julho', 'voluntário', 'oferecer', 'participar', 'estudo', 'cujo', 'critério', 'elegibilidade', 'mesmo', 'aplicar', 'ensaio', 'nacional', 'rastreamento', 'pulmonar', 'realizar', 'eua', 'total', 'participante', 'receber', 'diagnóstico', 'cpcnp', 'prevalência', 'maioria', 'qual', 'classificado', 'estágio', 'publicar', 'várias', 'série', 'retrospectiva', 'qual', 'relatado', 'dado', 'proveniente', 'único', 'instituição', 'respeito', 'histologia', 'estadiamento', 'desfecho', 'câncer', 'pulmão', 'curiosamente', 'presença', 'célula', 'escamosa', 'exame', 'histológico', 'parecer', 'prevalente', 'serviço', 'público', 'saúde', 'passo', 'adenocarcinoma', 'predomina', 'instituição', 'privar', 'eua', 'taxa', 'carcinoma', 'célula', 'escamosa', 'carcinoma', 'pequeno', 'célula', 'pulmão', 'cpcp', 'diminuir', 'após', 'década', 'taxa', 'adenocarcinoma', 'aumentar', 'período', 'todo', 'raça', 'etnia', 'sexo', 'importante', 'centro', 'oncológico', 'estado', 'analisou', 'dado', 'coletado', 'referente', 'paciente', 'câncer', 'pulmão', 'queda', 'proporção', 'cpcp', 'dois', 'período', 'diferente', 'embora', 'ocorrer', 'alteração', 'significativo', 'subgrupo', 'histológico', 'cpcnp', 'entanto', 'estudo', 'epidemiológico', 'avaliado', 'dado', 'caso', 'paciente', 'diagnóstico', 'cpcnp', 'estado', 'observar', 'tendência', 'grande', 'prevalência', 'adenocarcinoma', 'carcinoma', 'célula', 'escamosa', 'exame', 'histológico', 'último', 'ano']\n"
          ]
        }
      ]
    },
    {
      "cell_type": "code",
      "source": [
        "#palavras[1]"
      ],
      "metadata": {
        "id": "7YigrpfikXac"
      },
      "execution_count": 174,
      "outputs": []
    },
    {
      "cell_type": "markdown",
      "source": [
        "#Analisando o 1° texto"
      ],
      "metadata": {
        "id": "qCh3RYE9lMXa"
      }
    },
    {
      "cell_type": "code",
      "source": [
        "frequencia_palavras1 = {}\n",
        "for palavra in palavras[0]:\n",
        "  if palavra not in frequencia_palavras1:\n",
        "    frequencia_palavras1[palavra] = 0\n",
        "\n",
        "  frequencia_palavras1[palavra] += 1"
      ],
      "metadata": {
        "id": "jd9s4864kuMX"
      },
      "execution_count": 175,
      "outputs": []
    },
    {
      "cell_type": "code",
      "source": [
        "frequencia_palavras1"
      ],
      "metadata": {
        "id": "ZMoHEDB6lBTt"
      },
      "execution_count": null,
      "outputs": []
    },
    {
      "cell_type": "code",
      "source": [
        "print(f'{len(frequencia_palavras1)} palavras encontradas')"
      ],
      "metadata": {
        "colab": {
          "base_uri": "https://localhost:8080/"
        },
        "id": "6zgdjxZLlwCj",
        "outputId": "a448c094-8f1f-42c2-d487-f64a69dacce6"
      },
      "execution_count": 177,
      "outputs": [
        {
          "output_type": "stream",
          "name": "stdout",
          "text": [
            "170 palavras encontradas\n"
          ]
        }
      ]
    },
    {
      "cell_type": "markdown",
      "source": [
        "#Analisando o 2° texto"
      ],
      "metadata": {
        "id": "P1tGLzG5lP7G"
      }
    },
    {
      "cell_type": "code",
      "source": [
        "frequencia_palavras2 = {}\n",
        "for palavra in palavras[1]:\n",
        "  if palavra not in frequencia_palavras2:\n",
        "    frequencia_palavras2[palavra] = 0\n",
        "\n",
        "  frequencia_palavras2[palavra] += 1"
      ],
      "metadata": {
        "id": "7rt5sJpxlTtq"
      },
      "execution_count": 178,
      "outputs": []
    },
    {
      "cell_type": "code",
      "source": [
        "frequencia_palavras2"
      ],
      "metadata": {
        "id": "mZ0beOPvlZMa"
      },
      "execution_count": null,
      "outputs": []
    },
    {
      "cell_type": "code",
      "source": [
        "print(f'{len(frequencia_palavras2)} palavras encontradas')"
      ],
      "metadata": {
        "colab": {
          "base_uri": "https://localhost:8080/"
        },
        "id": "9r3mRUpol9-A",
        "outputId": "c599a79a-5a8e-434c-8e62-86bda533fa40"
      },
      "execution_count": 180,
      "outputs": [
        {
          "output_type": "stream",
          "name": "stdout",
          "text": [
            "127 palavras encontradas\n"
          ]
        }
      ]
    },
    {
      "cell_type": "markdown",
      "source": [
        "#Analisando o 3° texto"
      ],
      "metadata": {
        "id": "qsTkTFshld_H"
      }
    },
    {
      "cell_type": "code",
      "source": [
        "frequencia_palavras3 = {}\n",
        "for palavra in palavras[2]:\n",
        "  if palavra not in frequencia_palavras3:\n",
        "    frequencia_palavras3[palavra] = 0\n",
        "\n",
        "  frequencia_palavras3[palavra] += 1"
      ],
      "metadata": {
        "id": "hotaRecvldjO"
      },
      "execution_count": 181,
      "outputs": []
    },
    {
      "cell_type": "code",
      "source": [
        "frequencia_palavras3"
      ],
      "metadata": {
        "id": "mvo9Q5DzllHn"
      },
      "execution_count": null,
      "outputs": []
    },
    {
      "cell_type": "code",
      "source": [
        "print(f'{len(frequencia_palavras3)} palavras encontradas')"
      ],
      "metadata": {
        "colab": {
          "base_uri": "https://localhost:8080/"
        },
        "id": "q8K8B7Pzl_QS",
        "outputId": "0c1cca18-d861-461a-d558-81dd7bc7a399"
      },
      "execution_count": 183,
      "outputs": [
        {
          "output_type": "stream",
          "name": "stdout",
          "text": [
            "127 palavras encontradas\n"
          ]
        }
      ]
    },
    {
      "cell_type": "markdown",
      "source": [
        "#Vamos consultar uma palavra no dicionário\n"
      ],
      "metadata": {
        "id": "v0PnKQR7m98n"
      }
    },
    {
      "cell_type": "code",
      "source": [
        "p = input(\"Palavra: \")\n",
        "total = frequencia_palavras1.get(p, 0) + frequencia_palavras2.get(p, 0) + frequencia_palavras3.get(p, 0)\n",
        "print(f\"{p} aparece {total} vezes no texto.\")"
      ],
      "metadata": {
        "colab": {
          "base_uri": "https://localhost:8080/"
        },
        "id": "1iiDK-x4rsLH",
        "outputId": "c132d082-e895-4d3d-b515-76ffd743d0fe"
      },
      "execution_count": 184,
      "outputs": [
        {
          "output_type": "stream",
          "name": "stdout",
          "text": [
            "Palavra: brasil\n",
            "brasil aparece 13 vezes no texto.\n"
          ]
        }
      ]
    },
    {
      "cell_type": "markdown",
      "source": [
        "## Juntando todas as listas\n"
      ],
      "metadata": {
        "id": "_BnSkZqc9p7E"
      }
    },
    {
      "cell_type": "code",
      "source": [
        "frequencia_geral = {k: frequencia_palavras1.get(k, 0) + frequencia_palavras2.get(k, 0) + frequencia_palavras3.get(k, 0) for k in set(frequencia_palavras1) | set(frequencia_palavras2) | set(frequencia_palavras3)}"
      ],
      "metadata": {
        "id": "jdktLGpn9t9Q"
      },
      "execution_count": 195,
      "outputs": []
    },
    {
      "cell_type": "markdown",
      "source": [
        "##Ondenando as palavras pela frequência"
      ],
      "metadata": {
        "id": "g7HY0JYP-Qvr"
      }
    },
    {
      "cell_type": "code",
      "source": [
        "from operator import itemgetter"
      ],
      "metadata": {
        "id": "daHDu63nuHxF"
      },
      "execution_count": 185,
      "outputs": []
    },
    {
      "cell_type": "code",
      "source": [
        "top_palavras = sorted(frequencia_geral.items(), key=itemgetter(1), reverse=True)"
      ],
      "metadata": {
        "id": "xB9c3DzW10r1"
      },
      "execution_count": 196,
      "outputs": []
    },
    {
      "cell_type": "code",
      "source": [
        "for palavra, qtde in top_palavras[:15]:\n",
        "  print (f'{palavra}:{qtde}')"
      ],
      "metadata": {
        "id": "TuKN4qY6ulFt"
      },
      "execution_count": null,
      "outputs": []
    },
    {
      "cell_type": "markdown",
      "source": [
        "#IDF\n"
      ],
      "metadata": {
        "id": "4utU-JCtBCKm"
      }
    },
    {
      "cell_type": "code",
      "source": [
        "word_idfs = {}\n",
        "for word in frequencia_geral:\n",
        "  contador = 0\n",
        "  for data in frequencia_palavras1:\n",
        "    if word in nltk.word_tokenize(data):\n",
        "      contador += 1\n",
        "  word_idfs[word] = np.log((len(line)/contador)+1)"
      ],
      "metadata": {
        "colab": {
          "base_uri": "https://localhost:8080/",
          "height": 206
        },
        "id": "XlqLnbFdBDUw",
        "outputId": "37712c43-7581-4075-d704-d6ad0012de01"
      },
      "execution_count": 212,
      "outputs": [
        {
          "output_type": "error",
          "ename": "ZeroDivisionError",
          "evalue": "ignored",
          "traceback": [
            "\u001b[0;31m---------------------------------------------------------------------------\u001b[0m",
            "\u001b[0;31mZeroDivisionError\u001b[0m                         Traceback (most recent call last)",
            "\u001b[0;32m<ipython-input-212-fb910827c594>\u001b[0m in \u001b[0;36m<module>\u001b[0;34m()\u001b[0m\n\u001b[1;32m      5\u001b[0m     \u001b[0;32mif\u001b[0m \u001b[0mword\u001b[0m \u001b[0;32min\u001b[0m \u001b[0mnltk\u001b[0m\u001b[0;34m.\u001b[0m\u001b[0mword_tokenize\u001b[0m\u001b[0;34m(\u001b[0m\u001b[0mdata\u001b[0m\u001b[0;34m)\u001b[0m\u001b[0;34m:\u001b[0m\u001b[0;34m\u001b[0m\u001b[0;34m\u001b[0m\u001b[0m\n\u001b[1;32m      6\u001b[0m       \u001b[0mcontador\u001b[0m \u001b[0;34m+=\u001b[0m \u001b[0;36m1\u001b[0m\u001b[0;34m\u001b[0m\u001b[0;34m\u001b[0m\u001b[0m\n\u001b[0;32m----> 7\u001b[0;31m   \u001b[0mword_idfs\u001b[0m\u001b[0;34m[\u001b[0m\u001b[0mword\u001b[0m\u001b[0;34m]\u001b[0m \u001b[0;34m=\u001b[0m \u001b[0mnp\u001b[0m\u001b[0;34m.\u001b[0m\u001b[0mlog\u001b[0m\u001b[0;34m(\u001b[0m\u001b[0;34m(\u001b[0m\u001b[0mlen\u001b[0m\u001b[0;34m(\u001b[0m\u001b[0mfrequencia_palavras1\u001b[0m\u001b[0;34m)\u001b[0m\u001b[0;34m/\u001b[0m\u001b[0mcontador\u001b[0m\u001b[0;34m)\u001b[0m\u001b[0;34m+\u001b[0m\u001b[0;36m1\u001b[0m\u001b[0;34m)\u001b[0m\u001b[0;34m\u001b[0m\u001b[0;34m\u001b[0m\u001b[0m\n\u001b[0m",
            "\u001b[0;31mZeroDivisionError\u001b[0m: division by zero"
          ]
        }
      ]
    }
  ]
}