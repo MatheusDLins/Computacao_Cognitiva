{
  "nbformat": 4,
  "nbformat_minor": 0,
  "metadata": {
    "colab": {
      "name": "Análise_de_sentimentos.ipynb",
      "provenance": [],
      "collapsed_sections": [],
      "authorship_tag": "ABX9TyNRmEh3VFqPLTKJ11zAuYol",
      "include_colab_link": true
    },
    "kernelspec": {
      "name": "python3",
      "display_name": "Python 3"
    },
    "language_info": {
      "name": "python"
    }
  },
  "cells": [
    {
      "cell_type": "markdown",
      "metadata": {
        "id": "view-in-github",
        "colab_type": "text"
      },
      "source": [
        "<a href=\"https://colab.research.google.com/github/MatheusDLins/Computacao_Cognitiva/blob/main/An%C3%A1lise_de_sentimentos.ipynb\" target=\"_parent\"><img src=\"https://colab.research.google.com/assets/colab-badge.svg\" alt=\"Open In Colab\"/></a>"
      ]
    },
    {
      "cell_type": "markdown",
      "source": [
        "#Análise de sentimentos com NLTK"
      ],
      "metadata": {
        "id": "xX4QooykpdyV"
      }
    },
    {
      "cell_type": "code",
      "source": [
        "pip install nltk==3.3"
      ],
      "metadata": {
        "colab": {
          "base_uri": "https://localhost:8080/"
        },
        "id": "-ARhmRWseDTS",
        "outputId": "a21619da-db28-42c3-d3bc-147b262cd625"
      },
      "execution_count": 1,
      "outputs": [
        {
          "output_type": "stream",
          "name": "stdout",
          "text": [
            "Collecting nltk==3.3\n",
            "  Downloading nltk-3.3.0.zip (1.4 MB)\n",
            "\u001b[?25l\r\u001b[K     |▎                               | 10 kB 24.3 MB/s eta 0:00:01\r\u001b[K     |▌                               | 20 kB 29.8 MB/s eta 0:00:01\r\u001b[K     |▊                               | 30 kB 33.2 MB/s eta 0:00:01\r\u001b[K     |█                               | 40 kB 9.2 MB/s eta 0:00:01\r\u001b[K     |█▏                              | 51 kB 8.1 MB/s eta 0:00:01\r\u001b[K     |█▍                              | 61 kB 9.5 MB/s eta 0:00:01\r\u001b[K     |█▋                              | 71 kB 7.8 MB/s eta 0:00:01\r\u001b[K     |█▉                              | 81 kB 8.7 MB/s eta 0:00:01\r\u001b[K     |██▏                             | 92 kB 9.6 MB/s eta 0:00:01\r\u001b[K     |██▍                             | 102 kB 8.5 MB/s eta 0:00:01\r\u001b[K     |██▋                             | 112 kB 8.5 MB/s eta 0:00:01\r\u001b[K     |██▉                             | 122 kB 8.5 MB/s eta 0:00:01\r\u001b[K     |███                             | 133 kB 8.5 MB/s eta 0:00:01\r\u001b[K     |███▎                            | 143 kB 8.5 MB/s eta 0:00:01\r\u001b[K     |███▌                            | 153 kB 8.5 MB/s eta 0:00:01\r\u001b[K     |███▊                            | 163 kB 8.5 MB/s eta 0:00:01\r\u001b[K     |████                            | 174 kB 8.5 MB/s eta 0:00:01\r\u001b[K     |████▎                           | 184 kB 8.5 MB/s eta 0:00:01\r\u001b[K     |████▌                           | 194 kB 8.5 MB/s eta 0:00:01\r\u001b[K     |████▊                           | 204 kB 8.5 MB/s eta 0:00:01\r\u001b[K     |█████                           | 215 kB 8.5 MB/s eta 0:00:01\r\u001b[K     |█████▏                          | 225 kB 8.5 MB/s eta 0:00:01\r\u001b[K     |█████▍                          | 235 kB 8.5 MB/s eta 0:00:01\r\u001b[K     |█████▋                          | 245 kB 8.5 MB/s eta 0:00:01\r\u001b[K     |██████                          | 256 kB 8.5 MB/s eta 0:00:01\r\u001b[K     |██████▏                         | 266 kB 8.5 MB/s eta 0:00:01\r\u001b[K     |██████▍                         | 276 kB 8.5 MB/s eta 0:00:01\r\u001b[K     |██████▋                         | 286 kB 8.5 MB/s eta 0:00:01\r\u001b[K     |██████▉                         | 296 kB 8.5 MB/s eta 0:00:01\r\u001b[K     |███████                         | 307 kB 8.5 MB/s eta 0:00:01\r\u001b[K     |███████▎                        | 317 kB 8.5 MB/s eta 0:00:01\r\u001b[K     |███████▌                        | 327 kB 8.5 MB/s eta 0:00:01\r\u001b[K     |███████▊                        | 337 kB 8.5 MB/s eta 0:00:01\r\u001b[K     |████████                        | 348 kB 8.5 MB/s eta 0:00:01\r\u001b[K     |████████▎                       | 358 kB 8.5 MB/s eta 0:00:01\r\u001b[K     |████████▌                       | 368 kB 8.5 MB/s eta 0:00:01\r\u001b[K     |████████▊                       | 378 kB 8.5 MB/s eta 0:00:01\r\u001b[K     |█████████                       | 389 kB 8.5 MB/s eta 0:00:01\r\u001b[K     |█████████▏                      | 399 kB 8.5 MB/s eta 0:00:01\r\u001b[K     |█████████▍                      | 409 kB 8.5 MB/s eta 0:00:01\r\u001b[K     |█████████▋                      | 419 kB 8.5 MB/s eta 0:00:01\r\u001b[K     |██████████                      | 430 kB 8.5 MB/s eta 0:00:01\r\u001b[K     |██████████▏                     | 440 kB 8.5 MB/s eta 0:00:01\r\u001b[K     |██████████▍                     | 450 kB 8.5 MB/s eta 0:00:01\r\u001b[K     |██████████▋                     | 460 kB 8.5 MB/s eta 0:00:01\r\u001b[K     |██████████▉                     | 471 kB 8.5 MB/s eta 0:00:01\r\u001b[K     |███████████                     | 481 kB 8.5 MB/s eta 0:00:01\r\u001b[K     |███████████▎                    | 491 kB 8.5 MB/s eta 0:00:01\r\u001b[K     |███████████▌                    | 501 kB 8.5 MB/s eta 0:00:01\r\u001b[K     |███████████▉                    | 512 kB 8.5 MB/s eta 0:00:01\r\u001b[K     |████████████                    | 522 kB 8.5 MB/s eta 0:00:01\r\u001b[K     |████████████▎                   | 532 kB 8.5 MB/s eta 0:00:01\r\u001b[K     |████████████▌                   | 542 kB 8.5 MB/s eta 0:00:01\r\u001b[K     |████████████▊                   | 552 kB 8.5 MB/s eta 0:00:01\r\u001b[K     |█████████████                   | 563 kB 8.5 MB/s eta 0:00:01\r\u001b[K     |█████████████▏                  | 573 kB 8.5 MB/s eta 0:00:01\r\u001b[K     |█████████████▍                  | 583 kB 8.5 MB/s eta 0:00:01\r\u001b[K     |█████████████▊                  | 593 kB 8.5 MB/s eta 0:00:01\r\u001b[K     |██████████████                  | 604 kB 8.5 MB/s eta 0:00:01\r\u001b[K     |██████████████▏                 | 614 kB 8.5 MB/s eta 0:00:01\r\u001b[K     |██████████████▍                 | 624 kB 8.5 MB/s eta 0:00:01\r\u001b[K     |██████████████▋                 | 634 kB 8.5 MB/s eta 0:00:01\r\u001b[K     |██████████████▉                 | 645 kB 8.5 MB/s eta 0:00:01\r\u001b[K     |███████████████                 | 655 kB 8.5 MB/s eta 0:00:01\r\u001b[K     |███████████████▎                | 665 kB 8.5 MB/s eta 0:00:01\r\u001b[K     |███████████████▌                | 675 kB 8.5 MB/s eta 0:00:01\r\u001b[K     |███████████████▉                | 686 kB 8.5 MB/s eta 0:00:01\r\u001b[K     |████████████████                | 696 kB 8.5 MB/s eta 0:00:01\r\u001b[K     |████████████████▎               | 706 kB 8.5 MB/s eta 0:00:01\r\u001b[K     |████████████████▌               | 716 kB 8.5 MB/s eta 0:00:01\r\u001b[K     |████████████████▊               | 727 kB 8.5 MB/s eta 0:00:01\r\u001b[K     |█████████████████               | 737 kB 8.5 MB/s eta 0:00:01\r\u001b[K     |█████████████████▏              | 747 kB 8.5 MB/s eta 0:00:01\r\u001b[K     |█████████████████▍              | 757 kB 8.5 MB/s eta 0:00:01\r\u001b[K     |█████████████████▊              | 768 kB 8.5 MB/s eta 0:00:01\r\u001b[K     |██████████████████              | 778 kB 8.5 MB/s eta 0:00:01\r\u001b[K     |██████████████████▏             | 788 kB 8.5 MB/s eta 0:00:01\r\u001b[K     |██████████████████▍             | 798 kB 8.5 MB/s eta 0:00:01\r\u001b[K     |██████████████████▋             | 808 kB 8.5 MB/s eta 0:00:01\r\u001b[K     |██████████████████▉             | 819 kB 8.5 MB/s eta 0:00:01\r\u001b[K     |███████████████████             | 829 kB 8.5 MB/s eta 0:00:01\r\u001b[K     |███████████████████▎            | 839 kB 8.5 MB/s eta 0:00:01\r\u001b[K     |███████████████████▋            | 849 kB 8.5 MB/s eta 0:00:01\r\u001b[K     |███████████████████▉            | 860 kB 8.5 MB/s eta 0:00:01\r\u001b[K     |████████████████████            | 870 kB 8.5 MB/s eta 0:00:01\r\u001b[K     |████████████████████▎           | 880 kB 8.5 MB/s eta 0:00:01\r\u001b[K     |████████████████████▌           | 890 kB 8.5 MB/s eta 0:00:01\r\u001b[K     |████████████████████▊           | 901 kB 8.5 MB/s eta 0:00:01\r\u001b[K     |█████████████████████           | 911 kB 8.5 MB/s eta 0:00:01\r\u001b[K     |█████████████████████▏          | 921 kB 8.5 MB/s eta 0:00:01\r\u001b[K     |█████████████████████▌          | 931 kB 8.5 MB/s eta 0:00:01\r\u001b[K     |█████████████████████▊          | 942 kB 8.5 MB/s eta 0:00:01\r\u001b[K     |██████████████████████          | 952 kB 8.5 MB/s eta 0:00:01\r\u001b[K     |██████████████████████▏         | 962 kB 8.5 MB/s eta 0:00:01\r\u001b[K     |██████████████████████▍         | 972 kB 8.5 MB/s eta 0:00:01\r\u001b[K     |██████████████████████▋         | 983 kB 8.5 MB/s eta 0:00:01\r\u001b[K     |██████████████████████▉         | 993 kB 8.5 MB/s eta 0:00:01\r\u001b[K     |███████████████████████         | 1.0 MB 8.5 MB/s eta 0:00:01\r\u001b[K     |███████████████████████▎        | 1.0 MB 8.5 MB/s eta 0:00:01\r\u001b[K     |███████████████████████▋        | 1.0 MB 8.5 MB/s eta 0:00:01\r\u001b[K     |███████████████████████▉        | 1.0 MB 8.5 MB/s eta 0:00:01\r\u001b[K     |████████████████████████        | 1.0 MB 8.5 MB/s eta 0:00:01\r\u001b[K     |████████████████████████▎       | 1.1 MB 8.5 MB/s eta 0:00:01\r\u001b[K     |████████████████████████▌       | 1.1 MB 8.5 MB/s eta 0:00:01\r\u001b[K     |████████████████████████▊       | 1.1 MB 8.5 MB/s eta 0:00:01\r\u001b[K     |█████████████████████████       | 1.1 MB 8.5 MB/s eta 0:00:01\r\u001b[K     |█████████████████████████▏      | 1.1 MB 8.5 MB/s eta 0:00:01\r\u001b[K     |█████████████████████████▌      | 1.1 MB 8.5 MB/s eta 0:00:01\r\u001b[K     |█████████████████████████▊      | 1.1 MB 8.5 MB/s eta 0:00:01\r\u001b[K     |██████████████████████████      | 1.1 MB 8.5 MB/s eta 0:00:01\r\u001b[K     |██████████████████████████▏     | 1.1 MB 8.5 MB/s eta 0:00:01\r\u001b[K     |██████████████████████████▍     | 1.1 MB 8.5 MB/s eta 0:00:01\r\u001b[K     |██████████████████████████▋     | 1.2 MB 8.5 MB/s eta 0:00:01\r\u001b[K     |██████████████████████████▉     | 1.2 MB 8.5 MB/s eta 0:00:01\r\u001b[K     |███████████████████████████     | 1.2 MB 8.5 MB/s eta 0:00:01\r\u001b[K     |███████████████████████████▍    | 1.2 MB 8.5 MB/s eta 0:00:01\r\u001b[K     |███████████████████████████▋    | 1.2 MB 8.5 MB/s eta 0:00:01\r\u001b[K     |███████████████████████████▉    | 1.2 MB 8.5 MB/s eta 0:00:01\r\u001b[K     |████████████████████████████    | 1.2 MB 8.5 MB/s eta 0:00:01\r\u001b[K     |████████████████████████████▎   | 1.2 MB 8.5 MB/s eta 0:00:01\r\u001b[K     |████████████████████████████▌   | 1.2 MB 8.5 MB/s eta 0:00:01\r\u001b[K     |████████████████████████████▊   | 1.2 MB 8.5 MB/s eta 0:00:01\r\u001b[K     |█████████████████████████████   | 1.3 MB 8.5 MB/s eta 0:00:01\r\u001b[K     |█████████████████████████████▎  | 1.3 MB 8.5 MB/s eta 0:00:01\r\u001b[K     |█████████████████████████████▌  | 1.3 MB 8.5 MB/s eta 0:00:01\r\u001b[K     |█████████████████████████████▊  | 1.3 MB 8.5 MB/s eta 0:00:01\r\u001b[K     |██████████████████████████████  | 1.3 MB 8.5 MB/s eta 0:00:01\r\u001b[K     |██████████████████████████████▏ | 1.3 MB 8.5 MB/s eta 0:00:01\r\u001b[K     |██████████████████████████████▍ | 1.3 MB 8.5 MB/s eta 0:00:01\r\u001b[K     |██████████████████████████████▋ | 1.3 MB 8.5 MB/s eta 0:00:01\r\u001b[K     |██████████████████████████████▉ | 1.3 MB 8.5 MB/s eta 0:00:01\r\u001b[K     |███████████████████████████████ | 1.4 MB 8.5 MB/s eta 0:00:01\r\u001b[K     |███████████████████████████████▍| 1.4 MB 8.5 MB/s eta 0:00:01\r\u001b[K     |███████████████████████████████▋| 1.4 MB 8.5 MB/s eta 0:00:01\r\u001b[K     |███████████████████████████████▉| 1.4 MB 8.5 MB/s eta 0:00:01\r\u001b[K     |████████████████████████████████| 1.4 MB 8.5 MB/s \n",
            "\u001b[?25hRequirement already satisfied: six in /usr/local/lib/python3.7/dist-packages (from nltk==3.3) (1.15.0)\n",
            "Building wheels for collected packages: nltk\n",
            "  Building wheel for nltk (setup.py) ... \u001b[?25l\u001b[?25hdone\n",
            "  Created wheel for nltk: filename=nltk-3.3-py3-none-any.whl size=1394486 sha256=f655dd5f5807f79a83fa186b21911e01db3f0d4cc67c34cdc978e05f2b1cd1de\n",
            "  Stored in directory: /root/.cache/pip/wheels/9b/fd/0c/d92302c876e5de87ebd7fc0979d82edb93e2d8d768bf71fac4\n",
            "Successfully built nltk\n",
            "Installing collected packages: nltk\n",
            "  Attempting uninstall: nltk\n",
            "    Found existing installation: nltk 3.2.5\n",
            "    Uninstalling nltk-3.2.5:\n",
            "      Successfully uninstalled nltk-3.2.5\n",
            "Successfully installed nltk-3.3\n"
          ]
        }
      ]
    },
    {
      "cell_type": "markdown",
      "source": [
        "#Etapa 1 - Instalando o NLTK e baixando os dados"
      ],
      "metadata": {
        "id": "OSuQhJOR4Xgb"
      }
    },
    {
      "cell_type": "code",
      "source": [
        "import nltk"
      ],
      "metadata": {
        "id": "YODSun_teJnr"
      },
      "execution_count": 2,
      "outputs": []
    },
    {
      "cell_type": "code",
      "source": [
        "nltk.download('twitter_samples')"
      ],
      "metadata": {
        "colab": {
          "base_uri": "https://localhost:8080/"
        },
        "id": "WpWvA1MieOQV",
        "outputId": "5850ccef-42c5-46cc-b07d-fc9d9e6727f3"
      },
      "execution_count": 3,
      "outputs": [
        {
          "output_type": "stream",
          "name": "stdout",
          "text": [
            "[nltk_data] Downloading package twitter_samples to /root/nltk_data...\n",
            "[nltk_data]   Unzipping corpora/twitter_samples.zip.\n"
          ]
        },
        {
          "output_type": "execute_result",
          "data": {
            "text/plain": [
              "True"
            ]
          },
          "metadata": {},
          "execution_count": 3
        }
      ]
    },
    {
      "cell_type": "markdown",
      "source": [
        "tokenização = divisão de strings em partes menores, chamadas tokens ."
      ],
      "metadata": {
        "id": "cC2lyfUXfHJz"
      }
    },
    {
      "cell_type": "markdown",
      "source": [
        "#Etapa 2 - Tokenizando os Dados"
      ],
      "metadata": {
        "id": "shhhJogW4P5G"
      }
    },
    {
      "cell_type": "code",
      "source": [
        "from nltk.corpus import twitter_samples\n"
      ],
      "metadata": {
        "id": "rFZSRCysfLfl"
      },
      "execution_count": 4,
      "outputs": []
    },
    {
      "cell_type": "markdown",
      "source": [
        "Isso importará três conjuntos de dados do NLTK que contêm vários tweets para treinar e testar o modelo:\n",
        "\n",
        "negative_tweets.json: 5000 tweets com sentimentos negativos\n",
        "\n",
        "positive_tweets.json: 5000 tweets com sentimentos positivos\n",
        "\n",
        "tweets.20150430-223406.json: 20000 tweets sem sentimentos\n",
        "\n",
        "Em seguida, criar variáveis para positive_tweets, negative_tweetse text:"
      ],
      "metadata": {
        "id": "SfM2dePAfXWj"
      }
    },
    {
      "cell_type": "code",
      "source": [
        "from nltk.corpus import twitter_samples \n",
        "positive_tweets = twitter_samples.strings('positive_tweets.json')\n",
        "negative_tweets = twitter_samples.strings('negative_tweets.json')\n",
        "text = twitter_samples.strings('tweets.20150430-223406.json')\n"
      ],
      "metadata": {
        "id": "5MRDGWwrfYRJ"
      },
      "execution_count": 5,
      "outputs": []
    },
    {
      "cell_type": "markdown",
      "source": [
        "O strings()método de twitter_samplesimprimirá todos os tweets em um conjunto de dados como seqüências de caracteres. Definir as diferentes coleções de tweets como uma variável facilitará o processamento e o teste."
      ],
      "metadata": {
        "id": "0u_OSJNlgOgg"
      }
    },
    {
      "cell_type": "code",
      "source": [
        "import nltk\n",
        "nltk.download('punkt')"
      ],
      "metadata": {
        "colab": {
          "base_uri": "https://localhost:8080/"
        },
        "id": "Rx4QU21mgP2y",
        "outputId": "36efea37-4603-488d-eaf8-28e1020c88b0"
      },
      "execution_count": 6,
      "outputs": [
        {
          "output_type": "stream",
          "name": "stdout",
          "text": [
            "[nltk_data] Downloading package punkt to /root/nltk_data...\n",
            "[nltk_data]   Unzipping tokenizers/punkt.zip.\n"
          ]
        },
        {
          "output_type": "execute_result",
          "data": {
            "text/plain": [
              "True"
            ]
          },
          "metadata": {},
          "execution_count": 6
        }
      ]
    },
    {
      "cell_type": "markdown",
      "source": [
        " O punktmódulo é um modelo pré-treinado que ajuda a tokenizar palavras e frases. Por exemplo, esse modelo sabe que um nome pode conter um ponto (como \"S. Daityari\") e a presença desse período em uma frase não necessariamente o termina."
      ],
      "metadata": {
        "id": "UK-mici7ge0i"
      }
    },
    {
      "cell_type": "code",
      "source": [
        "from nltk.corpus import twitter_samples \n",
        "positive_tweets = twitter_samples.strings('positive_tweets.json')\n",
        "negative_tweets = twitter_samples.strings('negative_tweets.json') \n",
        "text = twitter_samples.strings('tweets.20150430-223406.json')\n",
        "tweet_tokens = twitter_samples.tokenized('positive_tweets.json')\n"
      ],
      "metadata": {
        "id": "PlfjjFU5gfh3"
      },
      "execution_count": 7,
      "outputs": []
    },
    {
      "cell_type": "code",
      "source": [
        "from nltk.corpus import twitter_samples \n",
        "positive_tweets = twitter_samples.strings('positive_tweets.json')\n",
        "negative_tweets = twitter_samples.strings('negative_tweets.json') \n",
        "text = twitter_samples.strings('tweets.20150430-223406.json') \n",
        "tweet_tokens = twitter_samples.tokenized('positive_tweets.json')[0]\n",
        "print(tweet_tokens[0])\n"
      ],
      "metadata": {
        "colab": {
          "base_uri": "https://localhost:8080/"
        },
        "id": "jvWyyshChSVg",
        "outputId": "651b1798-739f-451c-81b3-49d7f196b5f4"
      },
      "execution_count": 8,
      "outputs": [
        {
          "output_type": "stream",
          "name": "stdout",
          "text": [
            "#FollowFriday\n"
          ]
        }
      ]
    },
    {
      "cell_type": "code",
      "source": [
        "from nltk.corpus import twitter_samples \n",
        "positive_tweets = twitter_samples.strings('positive_tweets.json') \n",
        "negative_tweets = twitter_samples.strings('negative_tweets.json') \n",
        "text = twitter_samples.strings('tweets.20150430-223406.json') \n",
        "tweet_tokens = twitter_samples.tokenized('positive_tweets.json')[0]\n",
        " #print(tweet_tokens[0])\n"
      ],
      "metadata": {
        "id": "lomQc-01iTFC"
      },
      "execution_count": 9,
      "outputs": []
    },
    {
      "cell_type": "markdown",
      "source": [
        "#Etapa 3 - Normalizando os dados"
      ],
      "metadata": {
        "id": "nfvwKPJ64KJE"
      }
    },
    {
      "cell_type": "code",
      "source": [
        "import nltk\n",
        "nltk.download('wordnet')\n",
        "nltk.download('averaged_perceptron_tagger')"
      ],
      "metadata": {
        "colab": {
          "base_uri": "https://localhost:8080/"
        },
        "id": "fZoyvIbR31p7",
        "outputId": "6257889f-f4d4-4dae-84e3-7332963fe031"
      },
      "execution_count": 14,
      "outputs": [
        {
          "output_type": "stream",
          "name": "stdout",
          "text": [
            "[nltk_data] Downloading package wordnet to /root/nltk_data...\n",
            "[nltk_data]   Unzipping corpora/wordnet.zip.\n",
            "[nltk_data] Downloading package averaged_perceptron_tagger to\n",
            "[nltk_data]     /root/nltk_data...\n",
            "[nltk_data]   Unzipping taggers/averaged_perceptron_tagger.zip.\n"
          ]
        },
        {
          "output_type": "execute_result",
          "data": {
            "text/plain": [
              "True"
            ]
          },
          "metadata": {},
          "execution_count": 14
        }
      ]
    },
    {
      "cell_type": "code",
      "source": [
        "from nltk.tag import pos_tag\n",
        "from nltk.corpus import twitter_samples\n",
        "\n",
        "tweet_tokens = twitter_samples.tokenized('positive_tweets.json')\n",
        "print(pos_tag(tweet_tokens[0]))"
      ],
      "metadata": {
        "colab": {
          "base_uri": "https://localhost:8080/"
        },
        "id": "fAC0HFdw3r8p",
        "outputId": "8d2e98ec-e27f-4ca2-a3dc-c4586484512d"
      },
      "execution_count": 15,
      "outputs": [
        {
          "output_type": "stream",
          "name": "stdout",
          "text": [
            "[('#FollowFriday', 'JJ'), ('@France_Inte', 'NNP'), ('@PKuchly57', 'NNP'), ('@Milipol_Paris', 'NNP'), ('for', 'IN'), ('being', 'VBG'), ('top', 'JJ'), ('engaged', 'VBN'), ('members', 'NNS'), ('in', 'IN'), ('my', 'PRP$'), ('community', 'NN'), ('this', 'DT'), ('week', 'NN'), (':)', 'NN')]\n"
          ]
        }
      ]
    },
    {
      "cell_type": "code",
      "source": [
        "\n",
        "from nltk.tag import pos_tag\n",
        "from nltk.stem.wordnet import WordNetLemmatizer \n",
        "def lemmatize_sentence(tokens):\n",
        "    lemmatizer = WordNetLemmatizer()\n",
        "    lemmatized_sentence = []    \n",
        "    for word, tag in pos_tag(tokens):\n",
        "        if tag.startswith('NN'):\n",
        "            pos = 'n'\n",
        "        elif tag.startswith('VB'):\n",
        "            pos = 'v'\n",
        "        else:\n",
        "            pos = 'a'\n",
        "        lemmatized_sentence.append(lemmatizer.lemmatize(word, pos))\n",
        "    return lemmatized_sentence \n",
        "print(lemmatize_sentence(tweet_tokens[0]))\n"
      ],
      "metadata": {
        "colab": {
          "base_uri": "https://localhost:8080/"
        },
        "id": "uIIZUMvi29Am",
        "outputId": "fffd6e83-92e1-4729-f36d-27cde99195ad"
      },
      "execution_count": 16,
      "outputs": [
        {
          "output_type": "stream",
          "name": "stdout",
          "text": [
            "['#FollowFriday', '@France_Inte', '@PKuchly57', '@Milipol_Paris', 'for', 'be', 'top', 'engage', 'member', 'in', 'my', 'community', 'this', 'week', ':)']\n"
          ]
        }
      ]
    },
    {
      "cell_type": "markdown",
      "source": [
        "#Etapa 4 - Removendo o ruído dos dados"
      ],
      "metadata": {
        "id": "77IIspfB4Ash"
      }
    },
    {
      "cell_type": "code",
      "source": [
        "\n",
        "import re, string\n",
        "\n",
        "def remove_noise(tweet_tokens, stop_words = ()):\n",
        "\n",
        "    cleaned_tokens = []\n",
        "\n",
        "    for token, tag in pos_tag(tweet_tokens):\n",
        "        token = re.sub('http[s]?://(?:[a-zA-Z]|[0-9]|[$-_@.&+#]|[!*\\(\\),]|'\\\n",
        "                       '(?:%[0-9a-fA-F][0-9a-fA-F]))+','', token)\n",
        "        token = re.sub(\"(@[A-Za-z0-9_]+)\",\"\", token)\n",
        "\n",
        "        if tag.startswith(\"NN\"):\n",
        "            pos = 'n'\n",
        "        elif tag.startswith('VB'):\n",
        "            pos = 'v'\n",
        "        else:\n",
        "            pos = 'a'\n",
        "\n",
        "        lemmatizer = WordNetLemmatizer()\n",
        "        token = lemmatizer.lemmatize(token, pos)\n",
        "\n",
        "        if len(token) > 0 and token not in string.punctuation and token.lower() not in stop_words:\n",
        "            cleaned_tokens.append(token.lower())\n",
        "    return cleaned_tokens\n"
      ],
      "metadata": {
        "id": "elaI4JgV5DNg"
      },
      "execution_count": 20,
      "outputs": []
    },
    {
      "cell_type": "code",
      "source": [
        "nltk.download('stopwords')"
      ],
      "metadata": {
        "colab": {
          "base_uri": "https://localhost:8080/"
        },
        "id": "AgtVejo76Puo",
        "outputId": "2bccf434-4345-4a52-b69e-aaab7aec2e06"
      },
      "execution_count": 21,
      "outputs": [
        {
          "output_type": "stream",
          "name": "stdout",
          "text": [
            "[nltk_data] Downloading package stopwords to /root/nltk_data...\n",
            "[nltk_data]   Unzipping corpora/stopwords.zip.\n"
          ]
        },
        {
          "output_type": "execute_result",
          "data": {
            "text/plain": [
              "True"
            ]
          },
          "metadata": {},
          "execution_count": 21
        }
      ]
    },
    {
      "cell_type": "code",
      "source": [
        "...\n",
        "from nltk.corpus import stopwords\n",
        "stop_words = stopwords.words('english') \n",
        "print(remove_noise(tweet_tokens[0], stop_words))\n"
      ],
      "metadata": {
        "colab": {
          "base_uri": "https://localhost:8080/"
        },
        "id": "vs6Gmvlt6SoC",
        "outputId": "5a7f5f46-f8e0-44f0-b8ab-f591e7d3978c"
      },
      "execution_count": 22,
      "outputs": [
        {
          "output_type": "stream",
          "name": "stdout",
          "text": [
            "['#followfriday', 'top', 'engage', 'member', 'community', 'week', ':)']\n"
          ]
        }
      ]
    },
    {
      "cell_type": "code",
      "source": [
        "...\n",
        "from nltk.corpus import stopwords\n",
        "stop_words = stopwords.words('english') \n",
        "#print(remove_noise(tweet_tokens[0], stop_words)) \n",
        "positive_tweet_tokens = twitter_samples.tokenized('positive_tweets.json')\n",
        "negative_tweet_tokens = twitter_samples.tokenized('negative_tweets.json')\n",
        "positive_cleaned_tokens_list = []\n",
        "negative_cleaned_tokens_list = []\n",
        "for tokens in positive_tweet_tokens:\n",
        "    positive_cleaned_tokens_list.append(remove_noise(tokens, stop_words))\n",
        "for tokens in negative_tweet_tokens:\n",
        "    negative_cleaned_tokens_list.append(remove_noise(tokens, stop_words))\n"
      ],
      "metadata": {
        "id": "h5CcuiV66YJb"
      },
      "execution_count": 23,
      "outputs": []
    },
    {
      "cell_type": "code",
      "source": [
        "print(positive_tweet_tokens[500]) \n",
        "print(positive_cleaned_tokens_list[500])\n"
      ],
      "metadata": {
        "colab": {
          "base_uri": "https://localhost:8080/"
        },
        "id": "ZhTob5LM6dwo",
        "outputId": "3a1fe224-c7ee-4c82-8248-0e5d30e25428"
      },
      "execution_count": 26,
      "outputs": [
        {
          "output_type": "stream",
          "name": "stdout",
          "text": [
            "['Dang', 'that', 'is', 'some', 'rad', '@AbzuGame', '#fanart', '!', ':D', 'https://t.co/bI8k8tb9ht']\n",
            "['dang', 'rad', '#fanart', ':d']\n"
          ]
        }
      ]
    },
    {
      "cell_type": "markdown",
      "source": [
        "#Etapa 5 - Determinando a densidade da palavra"
      ],
      "metadata": {
        "id": "WRqrKV-l69B8"
      }
    },
    {
      "cell_type": "code",
      "source": [
        "... \n",
        "def get_all_words(cleaned_tokens_list):\n",
        "    for tokens in cleaned_tokens_list:\n",
        "        for token in tokens:\n",
        "            yield token \n",
        "all_pos_words = get_all_words(positive_cleaned_tokens_list)\n",
        "\n"
      ],
      "metadata": {
        "id": "zpC3-OZR65md"
      },
      "execution_count": 27,
      "outputs": []
    },
    {
      "cell_type": "code",
      "source": [
        "from nltk import FreqDist \n",
        "freq_dist_pos = FreqDist(all_pos_words)\n",
        "print(freq_dist_pos.most_common(10))\n"
      ],
      "metadata": {
        "colab": {
          "base_uri": "https://localhost:8080/"
        },
        "id": "ZnftPvBB7FIT",
        "outputId": "da3d0fa2-e27f-46ba-9c52-d15a7ba059e8"
      },
      "execution_count": 28,
      "outputs": [
        {
          "output_type": "stream",
          "name": "stdout",
          "text": [
            "[(':)', 3691), (':-)', 701), (':d', 658), ('thanks', 388), ('follow', 357), ('love', 333), ('...', 290), ('good', 283), ('get', 263), ('thank', 253)]\n"
          ]
        }
      ]
    },
    {
      "cell_type": "markdown",
      "source": [
        "#Etapa 6 - Preparando dados para o modelo"
      ],
      "metadata": {
        "id": "z2mUp0ps7JvO"
      }
    },
    {
      "cell_type": "code",
      "source": [
        "...\n",
        "def get_tweets_for_model(cleaned_tokens_list):\n",
        "    for tweet_tokens in cleaned_tokens_list:\n",
        "        yield dict([token, True] for token in tweet_tokens) \n",
        "positive_tokens_for_model = get_tweets_for_model(positive_cleaned_tokens_list)\n",
        "negative_tokens_for_model = get_tweets_for_model(negative_cleaned_tokens_list)\n"
      ],
      "metadata": {
        "id": "7Ci3Do0B7Lbs"
      },
      "execution_count": 29,
      "outputs": []
    },
    {
      "cell_type": "markdown",
      "source": [
        "##Divisão do conjunto de dados para treinamento e teste do modelo"
      ],
      "metadata": {
        "id": "eDWTxXiJ7aHV"
      }
    },
    {
      "cell_type": "code",
      "source": [
        "...\n",
        "import random \n",
        "positive_dataset = [(tweet_dict, \"Positive\")for tweet_dict in positive_tokens_for_model] \n",
        "negative_dataset = [(tweet_dict, \"Negative\")for tweet_dict in negative_tokens_for_model] \n",
        "dataset = positive_dataset + negative_dataset \n",
        "random.shuffle(dataset) \n",
        "train_data = dataset[:7000]\n",
        "test_data = dataset[7000:]\n"
      ],
      "metadata": {
        "id": "L8xfNxo97TvJ"
      },
      "execution_count": 30,
      "outputs": []
    },
    {
      "cell_type": "markdown",
      "source": [
        "#Etapa 7 - Criando e testando o modelo"
      ],
      "metadata": {
        "id": "HdgzXLQA7ivk"
      }
    },
    {
      "cell_type": "code",
      "source": [
        "...\n",
        "from nltk import classify\n",
        "from nltk import NaiveBayesClassifier\n",
        "classifier = NaiveBayesClassifier.train(train_data) \n",
        "print(\"Accuracy is:\", classify.accuracy(classifier, test_data)) \n",
        "print(classifier.show_most_informative_features(10))\n"
      ],
      "metadata": {
        "colab": {
          "base_uri": "https://localhost:8080/"
        },
        "id": "FMeXUeqO7hn9",
        "outputId": "57397951-6d32-4f6d-c5af-5674e70cd014"
      },
      "execution_count": 31,
      "outputs": [
        {
          "output_type": "stream",
          "name": "stdout",
          "text": [
            "Accuracy is: 0.996\n",
            "Most Informative Features\n",
            "                      :( = True           Negati : Positi =   2054.2 : 1.0\n",
            "                      :) = True           Positi : Negati =   1653.4 : 1.0\n",
            "                     sad = True           Negati : Positi =     51.7 : 1.0\n",
            "                follower = True           Positi : Negati =     40.1 : 1.0\n",
            "                     bam = True           Positi : Negati =     21.3 : 1.0\n",
            "                  arrive = True           Positi : Negati =     20.4 : 1.0\n",
            "                     x15 = True           Negati : Positi =     16.8 : 1.0\n",
            "                    miss = True           Negati : Positi =     15.2 : 1.0\n",
            "               community = True           Positi : Negati =     15.2 : 1.0\n",
            "              appreciate = True           Positi : Negati =     13.8 : 1.0\n",
            "None\n"
          ]
        }
      ]
    },
    {
      "cell_type": "code",
      "source": [
        "#Esse código permitirá testar tweets personalizados, atualizando a string associada à custom_tweetvariável.\n",
        "from nltk.tokenize import word_tokenize \n",
        "custom_tweet = \"I ordered just once from TerribleCo, they screwed up, never used the app again.\"\n",
        "custom_tokens = remove_noise(word_tokenize(custom_tweet)) \n",
        "print(classifier.classify(dict([token, True] for token in custom_tokens)))\n"
      ],
      "metadata": {
        "colab": {
          "base_uri": "https://localhost:8080/"
        },
        "id": "1gvR8vZv7reh",
        "outputId": "51f93dce-c172-4da6-afdd-accd2413d419"
      },
      "execution_count": 32,
      "outputs": [
        {
          "output_type": "stream",
          "name": "stdout",
          "text": [
            "Negative\n"
          ]
        }
      ]
    },
    {
      "cell_type": "code",
      "source": [
        "...\n",
        "from nltk.tokenize import word_tokenize \n",
        "custom_tweet = 'Congrats #SportStar on your 7th best goal from last season winning goal of the year :) #Baller #Topbin #oneofmanyworldies'\n",
        "custom_tokens = remove_noise(word_tokenize(custom_tweet)) \n",
        "print(classifier.classify(dict([token, True] for token in custom_tokens)))\n",
        "\n"
      ],
      "metadata": {
        "colab": {
          "base_uri": "https://localhost:8080/"
        },
        "id": "wc817Mc77viI",
        "outputId": "8adbf035-3365-4094-b0be-414c1b7bf3d1"
      },
      "execution_count": 37,
      "outputs": [
        {
          "output_type": "stream",
          "name": "stdout",
          "text": [
            "Negative\n"
          ]
        }
      ]
    },
    {
      "cell_type": "code",
      "source": [
        "...\n",
        "from nltk.tokenize import word_tokenize \n",
        "custom_tweet = 'Thank you for sending my baggage to CityX and flying me to CityY at the same time. Brilliant service. #thanksGenericAirline'\n",
        "custom_tokens = remove_noise(word_tokenize(custom_tweet)) \n",
        "print(classifier.classify(dict([token, True] for token in custom_tokens)))\n",
        "\n"
      ],
      "metadata": {
        "colab": {
          "base_uri": "https://localhost:8080/"
        },
        "id": "yOA-CtcW7yCI",
        "outputId": "628d471e-1c6f-494e-90c5-be7e72c8e3ce"
      },
      "execution_count": 36,
      "outputs": [
        {
          "output_type": "stream",
          "name": "stdout",
          "text": [
            "Positive\n"
          ]
        }
      ]
    },
    {
      "cell_type": "code",
      "source": [
        "...\n",
        "from nltk.tokenize import word_tokenize \n",
        "custom_tweet = \"I ordered just once from TerribleCo, they screwed up gain.\"\n",
        "custom_tokens = remove_noise(word_tokenize(custom_tweet)) \n",
        "print(classifier.classify(dict([token, True] for token in custom_tokens)))\n",
        "\n"
      ],
      "metadata": {
        "colab": {
          "base_uri": "https://localhost:8080/"
        },
        "outputId": "8a5bbb24-ecdc-41bb-dc57-736d50778f3c",
        "id": "ljYt6Um_9Bnv"
      },
      "execution_count": 39,
      "outputs": [
        {
          "output_type": "stream",
          "name": "stdout",
          "text": [
            "Positive\n"
          ]
        }
      ]
    },
    {
      "cell_type": "markdown",
      "source": [
        "#Etapa 8 - Limpando o código (opcional)"
      ],
      "metadata": {
        "id": "Sh3S-Y898eUa"
      }
    },
    {
      "cell_type": "code",
      "source": [
        "from nltk.stem.wordnet import WordNetLemmatizer\n",
        "from nltk.corpus import twitter_samples, stopwords\n",
        "from nltk.tag import pos_tag\n",
        "from nltk.tokenize import word_tokenize\n",
        "from nltk import FreqDist, classify, NaiveBayesClassifier\n",
        "\n",
        "import re, string, random\n",
        "\n",
        "def remove_noise(tweet_tokens, stop_words = ()):\n",
        "\n",
        "    cleaned_tokens = []\n",
        "\n",
        "    for token, tag in pos_tag(tweet_tokens):\n",
        "        token = re.sub('http[s]?://(?:[a-zA-Z]|[0-9]|[$-_@.&+#]|[!*\\(\\),]|'\\\n",
        "                       '(?:%[0-9a-fA-F][0-9a-fA-F]))+','', token)\n",
        "        token = re.sub(\"(@[A-Za-z0-9_]+)\",\"\", token)\n",
        "\n",
        "        if tag.startswith(\"NN\"):\n",
        "            pos = 'n'\n",
        "        elif tag.startswith('VB'):\n",
        "            pos = 'v'\n",
        "        else:\n",
        "            pos = 'a'\n",
        "\n",
        "        lemmatizer = WordNetLemmatizer()\n",
        "        token = lemmatizer.lemmatize(token, pos)\n",
        "\n",
        "        if len(token) > 0 and token not in string.punctuation and token.lower() not in stop_words:\n",
        "            cleaned_tokens.append(token.lower())\n",
        "    return cleaned_tokens\n",
        "\n",
        "def get_all_words(cleaned_tokens_list):\n",
        "    for tokens in cleaned_tokens_list:\n",
        "        for token in tokens:\n",
        "            yield token\n",
        "\n",
        "def get_tweets_for_model(cleaned_tokens_list):\n",
        "    for tweet_tokens in cleaned_tokens_list:\n",
        "        yield dict([token, True] for token in tweet_tokens)\n",
        "\n",
        "if __name__ == \"__main__\":\n",
        "\n",
        "    positive_tweets = twitter_samples.strings('positive_tweets.json')\n",
        "    negative_tweets = twitter_samples.strings('negative_tweets.json')\n",
        "    text = twitter_samples.strings('tweets.20150430-223406.json')\n",
        "    tweet_tokens = twitter_samples.tokenized('positive_tweets.json')[0]\n",
        "\n",
        "    stop_words = stopwords.words('english')\n",
        "\n",
        "    positive_tweet_tokens = twitter_samples.tokenized('positive_tweets.json')\n",
        "    negative_tweet_tokens = twitter_samples.tokenized('negative_tweets.json')\n",
        "\n",
        "    positive_cleaned_tokens_list = []\n",
        "    negative_cleaned_tokens_list = []\n",
        "\n",
        "    for tokens in positive_tweet_tokens:\n",
        "        positive_cleaned_tokens_list.append(remove_noise(tokens, stop_words))\n",
        "\n",
        "    for tokens in negative_tweet_tokens:\n",
        "        negative_cleaned_tokens_list.append(remove_noise(tokens, stop_words))\n",
        "\n",
        "    all_pos_words = get_all_words(positive_cleaned_tokens_list)\n",
        "\n",
        "    freq_dist_pos = FreqDist(all_pos_words)\n",
        "    print(freq_dist_pos.most_common(10))\n",
        "\n",
        "    positive_tokens_for_model = get_tweets_for_model(positive_cleaned_tokens_list)\n",
        "    negative_tokens_for_model = get_tweets_for_model(negative_cleaned_tokens_list)\n",
        "\n",
        "    positive_dataset = [(tweet_dict, \"Positive\")\n",
        "                         for tweet_dict in positive_tokens_for_model]\n",
        "\n",
        "    negative_dataset = [(tweet_dict, \"Negative\")\n",
        "                         for tweet_dict in negative_tokens_for_model]\n",
        "\n",
        "    dataset = positive_dataset + negative_dataset\n",
        "\n",
        "    random.shuffle(dataset)\n",
        "\n",
        "    train_data = dataset[:7000]\n",
        "    test_data = dataset[7000:]\n",
        "\n",
        "    classifier = NaiveBayesClassifier.train(train_data)\n",
        "\n",
        "    print(\"Accuracy is:\", classify.accuracy(classifier, test_data))\n",
        "\n",
        "    print(classifier.show_most_informative_features(10))\n",
        "\n",
        "    custom_tweet = \"I ordered just once from TerribleCo, they screwed up, never used the app again.\"\n",
        "\n",
        "    custom_tokens = remove_noise(word_tokenize(custom_tweet))\n",
        "\n",
        "    print(custom_tweet, classifier.classify(dict([token, True] for token in custom_tokens)))"
      ],
      "metadata": {
        "colab": {
          "base_uri": "https://localhost:8080/"
        },
        "id": "QxSMsvsD8dNi",
        "outputId": "f6ff0859-ceac-4950-dfd3-face254ad373"
      },
      "execution_count": 38,
      "outputs": [
        {
          "output_type": "stream",
          "name": "stdout",
          "text": [
            "[(':)', 3691), (':-)', 701), (':d', 658), ('thanks', 388), ('follow', 357), ('love', 333), ('...', 290), ('good', 283), ('get', 263), ('thank', 253)]\n",
            "Accuracy is: 0.9953333333333333\n",
            "Most Informative Features\n",
            "                      :( = True           Negati : Positi =   2062.1 : 1.0\n",
            "                follower = True           Positi : Negati =     23.3 : 1.0\n",
            "                     sad = True           Negati : Positi =     23.2 : 1.0\n",
            "                      bc = True           Negati : Positi =     22.7 : 1.0\n",
            "                     bam = True           Positi : Negati =     22.0 : 1.0\n",
            "                  arrive = True           Positi : Negati =     21.3 : 1.0\n",
            "                     x15 = True           Negati : Positi =     15.4 : 1.0\n",
            "                    blog = True           Positi : Negati =     15.2 : 1.0\n",
            "                followed = True           Negati : Positi =     14.4 : 1.0\n",
            "                    miss = True           Negati : Positi =     13.6 : 1.0\n",
            "None\n",
            "I ordered just once from TerribleCo, they screwed up, never used the app again. Negative\n"
          ]
        }
      ]
    }
  ]
}